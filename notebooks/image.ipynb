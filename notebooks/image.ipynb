{
 "cells": [
  {
   "cell_type": "code",
   "execution_count": null,
   "metadata": {},
   "outputs": [],
   "source": [
    "import matplotlib\n",
    "import torch\n",
    "import torch.nn as nn\n",
    "import torch.nn.functional as F\n",
    "import ml_collections\n",
    "import sys\n",
    "sys.path.insert(0, '../')\n",
    "from config.eval.cifar10 import get_config as get_eval_config\n",
    "import lib.utils.bookkeeping as bookkeeping\n",
    "from pathlib import Path\n",
    "import numpy as np\n",
    "import matplotlib.pyplot as plt\n",
    "\n",
    "import lib.utils.utils as utils\n",
    "import lib.models.models as models\n",
    "import lib.models.model_utils as model_utils\n",
    "import lib.sampling.sampling as sampling\n",
    "import lib.sampling.sampling_utils as sampling_utils\n",
    "\n",
    "%matplotlib inline\n",
    "\n",
    "eval_cfg = get_eval_config()\n",
    "train_cfg = bookkeeping.load_ml_collections(Path(eval_cfg.train_config_path))\n",
    "\n",
    "for item in eval_cfg.train_config_overrides:\n",
    "    utils.set_in_nested_dict(train_cfg, item[0], item[1])\n",
    "\n",
    "S = train_cfg.data.S\n",
    "device = torch.device(eval_cfg.device)\n",
    "\n",
    "model = model_utils.create_model(train_cfg, device)\n",
    "\n",
    "loaded_state = torch.load(Path(eval_cfg.checkpoint_path),\n",
    "    map_location=device)\n",
    "\n",
    "modified_model_state = utils.remove_module_from_keys(loaded_state['model'])\n",
    "model.load_state_dict(modified_model_state)\n",
    "\n",
    "model.eval()\n",
    "\n",
    "def imgtrans(x):\n",
    "    x = np.transpose(x, (1,2,0))\n",
    "    return x"
   ]
  },
  {
   "cell_type": "code",
   "execution_count": null,
   "metadata": {},
   "outputs": [],
   "source": [
    "# -------------- Sample the model ------------------\n",
    "num_samples = 10\n",
    "sampler = sampling_utils.get_sampler(eval_cfg)\n",
    "samples, x_hist, x0_hist = sampler.sample(model, num_samples, 10)\n",
    "\n",
    "samples = samples.reshape(num_samples, 3, 32, 32)\n",
    "x_hist = x_hist.reshape(10, num_samples, 3, 32, 32)\n",
    "x0_hist = x0_hist.reshape(10, num_samples, 3, 32, 32)"
   ]
  },
  {
   "cell_type": "code",
   "execution_count": null,
   "metadata": {},
   "outputs": [],
   "source": [
    "# ------------- Display the sample ------------\n",
    "idx = 0\n",
    "plt.imshow(imgtrans(samples[idx, ...]))\n",
    "plt.show()"
   ]
  },
  {
   "cell_type": "code",
   "execution_count": null,
   "metadata": {},
   "outputs": [],
   "source": [
    "# --------------- Display the progression during sampling -----------\n",
    "# first row is the progression of the sample itself\n",
    "# second row is the progression of the x0 predictions\n",
    "idx = 0\n",
    "fig, ax = plt.subplots(2, 10)\n",
    "for i in range(10):\n",
    "    ax[0, i].imshow(imgtrans(x_hist[i, idx, ...]))\n",
    "    ax[0, i].axis('off')\n",
    "    ax[1, i].imshow(imgtrans(x0_hist[i, idx, ...]))\n",
    "    ax[1, i].axis('off')\n",
    "plt.gcf().set_size_inches(10, 2)\n",
    "plt.show()"
   ]
  },
  {
   "cell_type": "code",
   "execution_count": null,
   "metadata": {},
   "outputs": [],
   "source": []
  }
 ],
 "metadata": {
  "interpreter": {
   "hash": "d812279b1f0eba895e4e8fd2794363aa6926394d8f60a753ee1f119ab02f570b"
  },
  "kernelspec": {
   "display_name": "Python 3.9.7 ('discrete')",
   "language": "python",
   "name": "python3"
  },
  "language_info": {
   "codemirror_mode": {
    "name": "ipython",
    "version": 3
   },
   "file_extension": ".py",
   "mimetype": "text/x-python",
   "name": "python",
   "nbconvert_exporter": "python",
   "pygments_lexer": "ipython3",
   "version": "3.8.18"
  },
  "orig_nbformat": 4
 },
 "nbformat": 4,
 "nbformat_minor": 2
}
